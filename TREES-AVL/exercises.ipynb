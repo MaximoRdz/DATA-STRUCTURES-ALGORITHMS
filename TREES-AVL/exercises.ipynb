{
 "cells": [
  {
   "cell_type": "code",
   "execution_count": 6,
   "metadata": {},
   "outputs": [],
   "source": [
    "from collections import deque\n",
    "from binary_trees import BinaryTree, BinaryNode\n",
    "\n",
    "# Mirror Function\n",
    "\n",
    "root = BinaryNode(1)\n",
    "\n",
    "root.left = BinaryNode(2)\n",
    "root.right = BinaryNode(3)\n",
    "\n",
    "root.left.left = BinaryNode(4)\n",
    "root.left.right = BinaryNode(5)\n",
    "\n",
    "root.right.left = BinaryNode(6)\n",
    "root.right.right = BinaryNode(7)\n",
    "\n",
    "tree = BinaryTree(root)"
   ]
  },
  {
   "cell_type": "code",
   "execution_count": 12,
   "metadata": {},
   "outputs": [
    {
     "name": "stdout",
     "output_type": "stream",
     "text": [
      "1 -> 2, 3\n",
      "2 -> 4, 5\n",
      "3 -> 6, 7\n",
      "4 -> , \n",
      "5 -> , \n",
      "6 -> , \n",
      "7 -> , \n"
     ]
    }
   ],
   "source": [
    "def draw(tree: BinaryTree) -> None:\n",
    "    \"\"\"Breadth First Drawing\"\"\"\n",
    "    q = deque()\n",
    "    q.append(tree._root)\n",
    "\n",
    "    while q:\n",
    "        node = q.popleft()\n",
    "\n",
    "        if node is not None:\n",
    "            left = \"\" if node.left is None else node.left.elem\n",
    "            right = \"\" if node.right is None else node.right.elem\n",
    "            print(f\"{node.elem} -> {left}, {right}\")\n",
    "            q.append(node.left)\n",
    "            q.append(node.right)\n",
    "\n",
    "\n",
    "draw(tree)"
   ]
  },
  {
   "cell_type": "code",
   "execution_count": 14,
   "metadata": {},
   "outputs": [
    {
     "name": "stdout",
     "output_type": "stream",
     "text": [
      "1 -> 3, 2\n",
      "3 -> 7, 6\n",
      "2 -> 5, 4\n",
      "7 -> , \n",
      "6 -> , \n",
      "5 -> , \n",
      "4 -> , \n"
     ]
    }
   ],
   "source": [
    "def mirror(tree: BinaryTree) -> BinaryTree:\n",
    "    mirror_root = _mirror(tree._root)\n",
    "    tree = BinaryTree(mirror_root)\n",
    "    return tree\n",
    "\n",
    "\n",
    "def _mirror(node: BinaryNode) -> BinaryNode:\n",
    "    if node is None:\n",
    "        return node\n",
    "    \n",
    "    node.left, node.right = node.right, node.left\n",
    "    node.left = _mirror(node.left)\n",
    "    node.right = _mirror(node.right)\n",
    "\n",
    "    return node\n",
    "\n",
    "\n",
    "mirror_tree = mirror(tree)\n",
    "draw(tree)"
   ]
  }
 ],
 "metadata": {
  "kernelspec": {
   "display_name": "Python 3",
   "language": "python",
   "name": "python3"
  },
  "language_info": {
   "codemirror_mode": {
    "name": "ipython",
    "version": 3
   },
   "file_extension": ".py",
   "mimetype": "text/x-python",
   "name": "python",
   "nbconvert_exporter": "python",
   "pygments_lexer": "ipython3",
   "version": "3.10.11"
  }
 },
 "nbformat": 4,
 "nbformat_minor": 2
}
