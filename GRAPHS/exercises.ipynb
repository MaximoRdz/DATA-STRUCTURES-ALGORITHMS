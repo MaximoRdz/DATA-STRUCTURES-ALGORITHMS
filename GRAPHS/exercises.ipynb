{
 "cells": [
  {
   "cell_type": "code",
   "execution_count": 7,
   "metadata": {},
   "outputs": [
    {
     "name": "stdout",
     "output_type": "stream",
     "text": [
      "False\n"
     ]
    }
   ],
   "source": [
    "from graphs_dict import Graph\n",
    "\n",
    "\n",
    "class GraphBipartite(Graph):\n",
    "    \"\"\"\n",
    "    Implement a method to check if the graph is bipartite.\n",
    "    i.e. The graph is formed by two disconnected subgraphs.\n",
    "    \"\"\"\n",
    "\n",
    "    def is_bipartite(self):\n",
    "\n",
    "        graph_nodes = set(self._vertices)\n",
    "\n",
    "        start = list(self._vertices)[0]\n",
    "\n",
    "        subset = set(self.bfs(start))\n",
    "\n",
    "        if subset == graph_nodes:\n",
    "            return False\n",
    "        \n",
    "        difference = graph_nodes.difference(subset)\n",
    "        start = list(difference)[0]\n",
    "\n",
    "        second_subset = set(self.bfs(start))\n",
    "\n",
    "        if subset.union(second_subset) == graph_nodes:\n",
    "            return True\n",
    "        \n",
    "        return False\n",
    "\n",
    "\"\"\"\n",
    "    A ----?----- B\n",
    "    |           | \\\n",
    "    1           |  9\n",
    "    |           |   \\\n",
    "    C           6    E\n",
    "      \\         |   /\n",
    "        11      |  8\n",
    "          \\     | /\n",
    "           F    D\n",
    "\"\"\"\n",
    "g = GraphBipartite([\"A\", \"B\", \"C\", \"D\", \"E\", \"F\"])\n",
    "\n",
    "# g.add_edge(\"A\", \"B\", 5)  # comment this line if you want the graph to be bipartite\n",
    "g.add_edge(\"A\", \"C\", 1)\n",
    "\n",
    "g.add_edge(\"B\", \"D\", 6)\n",
    "g.add_edge(\"B\", \"E\", 9)\n",
    "\n",
    "g.add_edge(\"C\", \"F\", 11)\n",
    "\n",
    "g.add_edge(\"D\", \"E\", 8)\n",
    "\n",
    "print(g.is_bipartite())"
   ]
  }
 ],
 "metadata": {
  "kernelspec": {
   "display_name": "Python 3",
   "language": "python",
   "name": "python3"
  },
  "language_info": {
   "codemirror_mode": {
    "name": "ipython",
    "version": 3
   },
   "file_extension": ".py",
   "mimetype": "text/x-python",
   "name": "python",
   "nbconvert_exporter": "python",
   "pygments_lexer": "ipython3",
   "version": "3.10.11"
  }
 },
 "nbformat": 4,
 "nbformat_minor": 2
}
