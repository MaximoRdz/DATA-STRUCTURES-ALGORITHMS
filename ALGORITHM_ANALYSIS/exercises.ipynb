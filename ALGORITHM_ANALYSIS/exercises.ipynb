{
 "cells": [
  {
   "cell_type": "markdown",
   "metadata": {},
   "source": [
    "## Excercise 1\n",
    "Write the matrix multiplication function. Find $T(n)$ and $\\mathcal{O}$ and indicate the algorithm best and worst case.\n",
    "\n",
    "Square matrices algortihm:\n",
    "$$c_{i, j} = \\sum_{n=1}^{L} a_{i, n} \\cdot b_{n, j}$$"
   ]
  },
  {
   "cell_type": "code",
   "execution_count": 3,
   "metadata": {},
   "outputs": [
    {
     "name": "stdout",
     "output_type": "stream",
     "text": [
      "[7, 5]\n",
      "[15, 11]\n"
     ]
    }
   ],
   "source": [
    "def multiply(A: list, B: list) -> list:\n",
    "    \"\"\"Matrix multiplication of square matrices A and B.\"\"\"\n",
    "    size = len(A)\n",
    "    C = []\n",
    "    for i in range(size):\n",
    "        C.append([])\n",
    "        for j in range(size):\n",
    "            C[i].append(\n",
    "                sum(A[i][n] * B[n][j] for n in range(size))\n",
    "            )\n",
    "    \n",
    "    return C\n",
    "\n",
    "A = [\n",
    "    [1, 2],\n",
    "    [3, 4]\n",
    "    ]\n",
    "\n",
    "B = [\n",
    "    [1, 1],\n",
    "    [3, 2]\n",
    "    ]\n",
    "\n",
    "print(*multiply(A, B) , sep=\"\\n\")"
   ]
  },
  {
   "cell_type": "markdown",
   "metadata": {},
   "source": [
    "```python\n",
    "def multiply(A: list, B: list) -> list:\n",
    "    size = len(A)\n",
    "    C = []\n",
    "    for i in range(size):\n",
    "        C.append([])\n",
    "        for j in range(size):\n",
    "            C[i].append(\n",
    "                sum(A[i][n] * B[n][j] for n in range(size))\n",
    "            )\n",
    "    \n",
    "    return C\n",
    "```\n",
    "$T(n) = 2 + 1 + N \\cdot (1 + N \\cdot (3 + 5 \\cdot  N)) + 1 = 4 + N + 3 \\cdot N^2 + 5 \\cdot N^3$\n",
    "\n",
    "$\\mathcal{O}(N^3)$"
   ]
  }
 ],
 "metadata": {
  "kernelspec": {
   "display_name": "Python 3",
   "language": "python",
   "name": "python3"
  },
  "language_info": {
   "codemirror_mode": {
    "name": "ipython",
    "version": 3
   },
   "file_extension": ".py",
   "mimetype": "text/x-python",
   "name": "python",
   "nbconvert_exporter": "python",
   "pygments_lexer": "ipython3",
   "version": "3.10.11"
  }
 },
 "nbformat": 4,
 "nbformat_minor": 2
}
