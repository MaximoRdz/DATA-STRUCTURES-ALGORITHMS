{
 "cells": [
  {
   "cell_type": "markdown",
   "metadata": {},
   "source": [
    "# Algorithm Analysis\n",
    "## Objectives\n",
    "1. Temporal Complexity of Algorithms\n",
    "2. Big-O \n",
    "3. Compare Algorithms\n",
    "4. Best and Worst cases of Algo's\n",
    "\n",
    "## Algorithm Performance\n",
    "- Temporal Complexity: Estimate time required.\n",
    "- Spacial Complexity: Estimate principal memory used.\n",
    "\n",
    "### Empirical Analysis\n",
    "Sum of the first N numbers example"
   ]
  },
  {
   "cell_type": "code",
   "execution_count": 2,
   "metadata": {},
   "outputs": [],
   "source": [
    "import time\n",
    "import matplotlib.pyplot as plt \n",
    "\n",
    "plt.style.use([\"science\", \"notebook\", \"grid\"])"
   ]
  },
  {
   "cell_type": "code",
   "execution_count": 7,
   "metadata": {},
   "outputs": [],
   "source": [
    "def sum_N(N: int):\n",
    "    result = 0\n",
    "    for i in range(1, N+1):\n",
    "        result += i\n",
    "    return result\n",
    "\n",
    "def sum_N_1(N: int):\n",
    "    return sum(range(1, N+1))\n",
    "\n",
    "# result = 0\n",
    "# def sum_N_2(N: int):\n",
    "\n",
    "#     if N==0:\n",
    "#         return 0\n",
    "    \n",
    "#     if N > 0:\n",
    "#         return sum_N_2(N-1)\n",
    "    \n",
    "#     result += sum_N_2(N-1)\n",
    "\n",
    "# implement cache/memoization and compare"
   ]
  }
 ],
 "metadata": {
  "kernelspec": {
   "display_name": "Python 3",
   "language": "python",
   "name": "python3"
  },
  "language_info": {
   "codemirror_mode": {
    "name": "ipython",
    "version": 3
   },
   "file_extension": ".py",
   "mimetype": "text/x-python",
   "name": "python",
   "nbconvert_exporter": "python",
   "pygments_lexer": "ipython3",
   "version": "3.10.11"
  }
 },
 "nbformat": 4,
 "nbformat_minor": 2
}
