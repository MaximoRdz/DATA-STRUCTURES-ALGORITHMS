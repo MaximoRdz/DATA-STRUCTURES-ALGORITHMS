{
 "cells": [
  {
   "cell_type": "code",
   "execution_count": 1,
   "metadata": {},
   "outputs": [],
   "source": [
    "from collections import deque\n",
    "\n",
    "\n",
    "class BinaryNode:\n",
    "    def __init__(\n",
    "            self,\n",
    "            elem: object,\n",
    "            left: \"BinaryNode\" = None,\n",
    "            right: \"BinaryNode\" = None\n",
    "            ) -> None:\n",
    "        \n",
    "        self.elem = elem\n",
    "        self.left = left\n",
    "        self.right = right\n",
    "\n",
    "\n",
    "class BinaryTree:\n",
    "    def __init__(self, root: BinaryNode = None) -> None:\n",
    "        self._root = root\n",
    "\n",
    "    def breadth_first(self):\n",
    "        q = deque()\n",
    "        q.append(self._root)\n",
    "\n",
    "        traversal = []\n",
    "\n",
    "        while q:\n",
    "            node = q.popleft()\n",
    "            if node is None:\n",
    "                continue\n",
    "            traversal.append(node.elem)\n",
    "            q.append(node.left)\n",
    "            q.append(node.right)\n",
    "        \n",
    "        return traversal"
   ]
  },
  {
   "cell_type": "markdown",
   "metadata": {},
   "source": [
    "## Algorithm Breadth First Traversal\n",
    "* Spatial Complexity: \n",
    "    We're using a python list to store the node we traverse therefore,   $\\mathcal{O}(n)$\n",
    "* Time Complexity: \n",
    "    Given a tree of size $N$ therefore,   $\\mathcal{O}(n)$"
   ]
  }
 ],
 "metadata": {
  "kernelspec": {
   "display_name": "Python 3",
   "language": "python",
   "name": "python3"
  },
  "language_info": {
   "codemirror_mode": {
    "name": "ipython",
    "version": 3
   },
   "file_extension": ".py",
   "mimetype": "text/x-python",
   "name": "python",
   "nbconvert_exporter": "python",
   "pygments_lexer": "ipython3",
   "version": "3.10.11"
  }
 },
 "nbformat": 4,
 "nbformat_minor": 2
}
